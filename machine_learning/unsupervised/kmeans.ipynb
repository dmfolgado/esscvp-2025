{
 "cells": [
  {
   "cell_type": "code",
   "execution_count": null,
   "metadata": {},
   "outputs": [],
   "source": [
    "import time\n",
    "import warnings\n",
    "\n",
    "import numpy as np\n",
    "import matplotlib.pyplot as plt\n",
    "\n",
    "from sklearn import cluster, datasets\n",
    "from sklearn.neighbors import kneighbors_graph\n",
    "from sklearn.preprocessing import StandardScaler\n",
    "from itertools import cycle, islice\n",
    "\n",
    "from helper import get_datasets, COLORS, MARKERS\n",
    "from matplotlib.lines import Line2D\n",
    "from ipywidgets import interactive\n",
    "from IPython.display import display\n",
    "%matplotlib widget\n",
    "%matplotlib inline\n",
    "\n",
    "np.random.seed(0)\n"
   ]
  },
  {
   "cell_type": "code",
   "execution_count": null,
   "metadata": {},
   "outputs": [],
   "source": [
    "def fit_knn(X, n_clusters):\n",
    "    two_means = cluster.MiniBatchKMeans(n_clusters=n_clusters)\n",
    "    t0 = time.time()\n",
    "\n",
    "    # catch warnings related to kneighbors_graph\n",
    "    with warnings.catch_warnings():\n",
    "        warnings.filterwarnings(\n",
    "            \"ignore\",\n",
    "            message=\"the number of connected components of the \"\n",
    "            + \"connectivity matrix is [0-9]{1,2}\"\n",
    "            + \" > 1. Completing it to avoid stopping the tree early.\",\n",
    "            category=UserWarning,\n",
    "        )\n",
    "        warnings.filterwarnings(\n",
    "            \"ignore\",\n",
    "            message=\"Graph is not fully connected, spectral embedding\"\n",
    "            + \" may not work as expected.\",\n",
    "            category=UserWarning,\n",
    "        )\n",
    "        two_means.fit(X)\n",
    "\n",
    "    t1 = time.time()\n",
    "    return (\"MiniBatch\\nKMeans\", two_means, t1 - t0)"
   ]
  },
  {
   "cell_type": "markdown",
   "metadata": {},
   "source": [
    "# Part 1 - Intuition\n",
    "\n",
    "We have six datasets each one of them with its own structure.\n",
    "\n",
    "This interactive demo lets you explore the KNN algorithm. \n",
    "\n",
    "We can visualize the how the cluster algorithms clusters the diferent datasets."
   ]
  },
  {
   "cell_type": "code",
   "execution_count": null,
   "metadata": {},
   "outputs": [],
   "source": [
    "plot_datasets, default_base_params = get_datasets()"
   ]
  },
  {
   "cell_type": "code",
   "execution_count": null,
   "metadata": {},
   "outputs": [],
   "source": [
    "plt.ioff()\n",
    "# ============\n",
    "# Set up cluster parameters\n",
    "# ============\n",
    "fig = plt.figure(figsize=(9 * 2 + 3, 13))\n",
    "plt.subplots_adjust(\n",
    "    left=0.02, right=0.98, bottom=0.001, top=0.95, wspace=0.05, hspace=0.01\n",
    ")\n",
    "def plot_boundary(n_clusters):\n",
    "    fig.clear(True)\n",
    "    plot_num = 1\n",
    "\n",
    "    for i_dataset, (dataset, algo_params) in enumerate(plot_datasets):\n",
    "        # update parameters with dataset-specific values\n",
    "        params = default_base_params.copy()\n",
    "        params.update(algo_params)\n",
    "\n",
    "        X, y = dataset\n",
    "\n",
    "        # normalize dataset for easier parameter selection\n",
    "        X = StandardScaler().fit_transform(X)\n",
    "\n",
    "        # connectivity matrix for structured Ward\n",
    "        connectivity = kneighbors_graph(\n",
    "            X, n_neighbors=params[\"n_neighbors\"], include_self=False\n",
    "        )\n",
    "        # make connectivity symmetric\n",
    "        connectivity = 0.5 * (connectivity + connectivity.T)\n",
    "\n",
    "\n",
    "        name, algorithm, delta = fit_knn(X, n_clusters)\n",
    "\n",
    "        if hasattr(algorithm, \"labels_\"):\n",
    "            y_pred = algorithm.labels_.astype(int)\n",
    "        else:\n",
    "            y_pred = algorithm.predict(X)\n",
    "\n",
    "        plt.subplot(3,2, plot_num)\n",
    "        if i_dataset == 0:\n",
    "            plt.title(name, size=18)\n",
    "\n",
    "        colors = np.array(\n",
    "            list(\n",
    "                islice(\n",
    "                    cycle(\n",
    "                        [\n",
    "                            \"#377eb8\",\n",
    "                            \"#ff7f00\",\n",
    "                            \"#4daf4a\",\n",
    "                            \"#f781bf\",\n",
    "                            \"#a65628\",\n",
    "                            \"#984ea3\",\n",
    "                            \"#999999\",\n",
    "                            \"#e41a1c\",\n",
    "                            \"#dede00\",\n",
    "                        ]\n",
    "                    ),\n",
    "                    int(max(y_pred) + 1),\n",
    "                )\n",
    "            )\n",
    "        )\n",
    "        # add black color for outliers (if any)\n",
    "        colors = np.append(colors, [\"#000000\"])\n",
    "        plt.scatter(X[:, 0], X[:, 1], s=10, color=colors[y_pred])\n",
    "\n",
    "        plt.xlim(-2.5, 2.5)\n",
    "        plt.ylim(-2.5, 2.5)\n",
    "        plt.xticks(())\n",
    "        plt.yticks(())\n",
    "        plt.text(\n",
    "            0.99,\n",
    "            0.01,\n",
    "            (\"%.2fs\" % (delta)).lstrip(\"0\"),\n",
    "            transform=plt.gca().transAxes,\n",
    "            size=15,\n",
    "            horizontalalignment=\"right\",\n",
    "        )\n",
    "        plot_num += 1\n",
    "    display(fig)\n",
    "\n",
    "inter = interactive(\n",
    "    plot_boundary,\n",
    "    n_clusters=[1, 3, 5, 7, 9],\n",
    ")\n",
    "\n",
    "display(inter)"
   ]
  },
  {
   "cell_type": "markdown",
   "metadata": {},
   "source": [
    "Recall how the KNN splits the space. \n",
    "\n",
    "Which are the datasets more suitable for this algorithm?"
   ]
  },
  {
   "cell_type": "markdown",
   "metadata": {},
   "source": [
    "## Part 2 Train and Fit"
   ]
  },
  {
   "cell_type": "code",
   "execution_count": null,
   "metadata": {},
   "outputs": [],
   "source": [
    "# Load the dataset iris https://scikit-learn.org/stable/modules/classes.html#module-sklearn.datasets\n",
    "# attribute X and y"
   ]
  },
  {
   "cell_type": "code",
   "execution_count": null,
   "metadata": {},
   "outputs": [],
   "source": [
    "# 2. Instantiate a KMEANS even a MiniBatch Kmeans\n",
    "# Hint: https://scikit-learn.org/stable/modules/generated/sklearn.cluster.KMeans.html?highlight=kmeans#sklearn.cluster.KMeans"
   ]
  },
  {
   "cell_type": "code",
   "execution_count": null,
   "metadata": {},
   "outputs": [],
   "source": [
    "# 3 Make predicts on X"
   ]
  },
  {
   "cell_type": "code",
   "execution_count": null,
   "metadata": {},
   "outputs": [],
   "source": [
    "dataset = datasets.load_iris()\n",
    "X = dataset.data\n",
    "y = dataset.target\n",
    "\n"
   ]
  },
  {
   "cell_type": "code",
   "execution_count": null,
   "metadata": {},
   "outputs": [],
   "source": [
    "est = cluster.KMeans(n_clusters=5)\n",
    "est.fit(X)\n",
    "y_pred = est.predict(X)"
   ]
  },
  {
   "cell_type": "markdown",
   "metadata": {},
   "source": [
    "## Extra check clusters and classes"
   ]
  },
  {
   "cell_type": "code",
   "execution_count": null,
   "metadata": {},
   "outputs": [],
   "source": [
    "plt.close()\n",
    "import seaborn as sns\n",
    "cmap_bold = [\"darkorange\", \"c\", \"darkblue\"]\n",
    "from matplotlib.lines import Line2D\n",
    "fig, ax = plt.subplots(figsize=(10,7))\n",
    "\n",
    "\n",
    "plot_x = 2\n",
    "plot_y = 3 \n",
    "\n",
    "legends = []\n",
    "for i in range(max(dataset.target)+1):\n",
    "    index = np.where(y == i)[0]\n",
    "    col = [COLORS[ y_pred[j] ] for j in index]\n",
    "    plt.scatter(\n",
    "        x=X[:, plot_x][index],\n",
    "        y=X[:, plot_y][index],\n",
    "        c=col,\n",
    "        marker=MARKERS[i],\n",
    "        label=dataset.target_names[i])\n",
    "\n",
    "    legends.append(Line2D([0], [0], marker=MARKERS[i], color='w', label=dataset.target_names[i],\n",
    "                          markerfacecolor='w', markersize=12, markeredgecolor=\"black\"))\n",
    "for i in range(max(y_pred) + 1):\n",
    "    legends.append(Line2D([0], [0], marker=\"o\", color=COLORS[i], label=f\"cluster {i+1}\",\n",
    "                        markerfacecolor=COLORS[i], markersize=12, markeredgecolor=\"black\"))\n",
    "    plt.scatter(\n",
    "        x=est.cluster_centers_[i, plot_x],\n",
    "        y=est.cluster_centers_[i, plot_y],\n",
    "        color=COLORS[i],\n",
    "        marker=\"o\",\n",
    "        edgecolor=\"black\",\n",
    "        s=100)\n",
    "ax.legend(handles=legends)\n",
    "plt.show()"
   ]
  },
  {
   "cell_type": "code",
   "execution_count": null,
   "metadata": {},
   "outputs": [],
   "source": []
  }
 ],
 "metadata": {
  "kernelspec": {
   "display_name": ".venv-ml",
   "language": "python",
   "name": "python3"
  },
  "language_info": {
   "codemirror_mode": {
    "name": "ipython",
    "version": 3
   },
   "file_extension": ".py",
   "mimetype": "text/x-python",
   "name": "python",
   "nbconvert_exporter": "python",
   "pygments_lexer": "ipython3",
   "version": "3.9.21"
  }
 },
 "nbformat": 4,
 "nbformat_minor": 2
}
