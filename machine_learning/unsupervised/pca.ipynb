{
 "cells": [
  {
   "cell_type": "markdown",
   "metadata": {},
   "source": [
    "# PCA Dimensionality Reduction with Wine Dataset "
   ]
  },
  {
   "cell_type": "code",
   "execution_count": null,
   "metadata": {},
   "outputs": [],
   "source": [
    "import warnings\n",
    "\n",
    "warnings.filterwarnings(\"ignore\")\n",
    "\n",
    "import matplotlib.pyplot as plt\n",
    "import numpy as np\n",
    "import pandas as pd\n",
    "from ydata_profiling import ProfileReport\n",
    "\n",
    "%matplotlib inline\n",
    "\n",
    "from IPython.display import display\n",
    "from mpl_toolkits.mplot3d import Axes3D\n",
    "from sklearn import datasets\n",
    "from sklearn.decomposition import PCA\n",
    "from sklearn.model_selection import train_test_split\n",
    "from sklearn.preprocessing import StandardScaler"
   ]
  },
  {
   "cell_type": "markdown",
   "metadata": {},
   "source": [
    "### Load and pre-process data"
   ]
  },
  {
   "cell_type": "code",
   "execution_count": null,
   "metadata": {},
   "outputs": [],
   "source": [
    "# Load wine dataset\n",
    "wine = datasets.load_wine()\n",
    "\n",
    "# Print relevant information\n",
    "print(\"Data\", np.shape(wine.data))\n",
    "print(\"Features names\", wine.feature_names)\n",
    "print(\"Target\", np.shape(wine.target))\n",
    "print(\"Target names\", wine.target_names)"
   ]
  },
  {
   "cell_type": "code",
   "execution_count": null,
   "metadata": {},
   "outputs": [],
   "source": [
    "# Convert data to pandas DataFrame\n",
    "df = pd.DataFrame(wine.data, columns=wine.feature_names)\n",
    "display(df.head())\n",
    "display(df.describe())\n",
    "\n",
    "# To display the report in a Jupyter notebook, run:\n",
    "profile = ProfileReport(df, title=\"Profiling Report\")\n",
    "profile.to_file(output_file=\"profiling.html\")"
   ]
  },
  {
   "cell_type": "markdown",
   "metadata": {},
   "source": [
    "### Vizualizations"
   ]
  },
  {
   "cell_type": "code",
   "execution_count": null,
   "metadata": {},
   "outputs": [],
   "source": [
    "# Load wine dataset\n",
    "wine = datasets.load_wine()\n",
    "\n",
    "# Target variable\n",
    "y = wine.target\n",
    "\n",
    "# Features reduced through PCA\n",
    "X_norm = StandardScaler().fit_transform(wine.data)\n",
    "X_reduced = PCA(n_components=3).fit_transform(X_norm)\n",
    "\n",
    "\n",
    "# Plotting the first three features\n",
    "fig = plt.figure(figsize=(10, 8))\n",
    "ax = fig.add_subplot(111, projection='3d')\n",
    "\n",
    "ax.scatter(wine.data[:, 0], wine.data[:, 1], wine.data[:, 2], c=y, cmap='viridis', s=50)\n",
    "ax.set_xlabel(\"1st feature: \" + wine.feature_names[0])\n",
    "ax.set_ylabel(\"2nd feature: \" + wine.feature_names[1])\n",
    "ax.set_zlabel(\"3rd feature: \" + wine.feature_names[2])\n",
    "\n",
    "ax.set_box_aspect([1,1,1])  # equal aspect ratio\n",
    "plt.title('First Three Features')\n",
    "plt.show()\n",
    "\n",
    "# Plotting the PCA-reduced features\n",
    "fig = plt.figure(figsize=(10, 8))\n",
    "ax = fig.add_subplot(111, projection='3d')\n",
    "\n",
    "ax.scatter(X_reduced[:, 0], X_reduced[:, 1], X_reduced[:, 2], c=y, cmap='viridis', s=50)\n",
    "ax.set_xlabel('1st eigenvector')\n",
    "ax.set_ylabel('2nd eigenvector')\n",
    "ax.set_zlabel('3rd eigenvector')\n",
    "\n",
    "ax.set_box_aspect([1,1,1])  # equal aspect ratio\n",
    "plt.title('PCA-Reduced Features')\n",
    "plt.show()"
   ]
  },
  {
   "cell_type": "code",
   "execution_count": null,
   "metadata": {},
   "outputs": [],
   "source": [
    "plt.figure()\n",
    "plt.title(\"First two features\")\n",
    "plt.scatter(wine.data[:, 0], wine.data[:, 1], c=wine.target, cmap=\"Set1\")\n",
    "plt.xlabel(\"1st feature\")\n",
    "plt.ylabel(\"2nd feature\")\n",
    "\n",
    "plt.figure()\n",
    "plt.title(\"First two PCA components\")\n",
    "plt.scatter(X_reduced[:, 0], X_reduced[:, 1], c=wine.target, cmap=\"Set1\")\n",
    "plt.xlabel(\"1st eigenvector\")\n",
    "plt.ylabel(\"2nd eigenvector\")"
   ]
  },
  {
   "cell_type": "code",
   "execution_count": null,
   "metadata": {},
   "outputs": [],
   "source": []
  }
 ],
 "metadata": {
  "kernelspec": {
   "display_name": ".venv-ml",
   "language": "python",
   "name": "python3"
  },
  "language_info": {
   "codemirror_mode": {
    "name": "ipython",
    "version": 3
   },
   "file_extension": ".py",
   "mimetype": "text/x-python",
   "name": "python",
   "nbconvert_exporter": "python",
   "pygments_lexer": "ipython3",
   "version": "3.9.21"
  }
 },
 "nbformat": 4,
 "nbformat_minor": 2
}
