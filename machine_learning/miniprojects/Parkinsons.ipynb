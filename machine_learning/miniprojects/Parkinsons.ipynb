{
 "cells": [
  {
   "cell_type": "markdown",
   "metadata": {},
   "source": [
    "<table style=\"background-color:#F5F5F5;\" width=\"100%\">\n",
    "    <tr><td style=\"background-color:#F5F5F5;\"><img src=\"../../assets/images/nortecvp_logo.png\" width=\"100\" align='right'/></td></tr>     <tr><td>\n",
    "            <h1><center>Inteligência Artificial na Saúde</center></h1>\n",
    "            <h3><center>1st Semester - 2024/2025</center></h3>\n",
    "            <h4><center>Escola Superior de Saúde Norte da Cruz Vermelha Portuguesa</center></h4>\n",
    "    </td></tr>\n",
    "</table>"
   ]
  },
  {
   "cell_type": "markdown",
   "metadata": {},
   "source": [
    "# Project Name: Parkinson's Disease Detection\n",
    "\n",
    "\n",
    "### Abstract\n",
    "\n",
    "Oxford Parkinson's Disease Detection Dataset\n",
    "\n",
    "\n",
    "### Source\n",
    "\n",
    "The dataset was created by Max Little of the University of Oxford, in collaboration with the National Centre for Voice and Speech, Denver, Colorado, who recorded the speech signals. The original study published the feature extraction methods for general voice disorders.\n",
    "\n",
    "\n",
    "### Data Set Information\n",
    "\n",
    "This dataset is composed of a range of biomedical voice measurements from 31 people, 23 with Parkinson's disease (PD). Each column in the table is a particular voice measure, and each row corresponds one of 195 voice recording from these individuals (\"name\" column). The main aim of the data is to discriminate healthy people from those with PD, according to \"status\" column which is set to 0 for healthy and 1 for PD.\n",
    "\n",
    "The data is in ASCII CSV format. The rows of the CSV file contain an instance corresponding to one voice recording. There are around six recordings per patient, the name of the patient is identified in the first column.For further information or to pass on comments, please contact Max Little (littlem '@' robots.ox.ac.uk).\n",
    "\n",
    "Further details are contained in the following reference -- if you use this dataset, please cite:\n",
    "Max A. Little, Patrick E. McSharry, Eric J. Hunter, Lorraine O. Ramig (2008), 'Suitability of dysphonia measurements for telemonitoring of Parkinson's disease', IEEE Transactions on Biomedical Engineering (to appear).\n",
    "\n",
    "#### Attribute Information\n",
    "\n",
    "Matrix column entries (attributes):\n",
    "* name - ASCII subject name and recording number\n",
    "* MDVP:Fo(Hz) - Average vocal fundamental frequency\n",
    "* MDVP:Fhi(Hz) - Maximum vocal fundamental frequency\n",
    "* MDVP:Flo(Hz) - Minimum vocal fundamental frequency\n",
    "* MDVP:Jitter(%),MDVP:Jitter(Abs),MDVP:RAP,MDVP:PPQ,Jitter:DDP - Several measures of variation in fundamental frequency\n",
    "* MDVP:Shimmer,MDVP:Shimmer(dB),Shimmer:APQ3,Shimmer:APQ5,MDVP:APQ,Shimmer:DDA - Several measures of variation in amplitude\n",
    "* NHR,HNR - Two measures of ratio of noise to tonal components in the voice\n",
    "* status - Health status of the subject (one) - Parkinson's, (zero) - healthy\n",
    "* RPDE,D2 - Two nonlinear dynamical complexity measures\n",
    "* DFA - Signal fractal scaling exponent\n",
    "* spread1,spread2,PPE - Three nonlinear measures of fundamental frequency variation \n",
    "\n",
    "\n",
    "#### UCI Link\n",
    "\n",
    "https://archive.ics.uci.edu/ml/datasets/parkinsons\n"
   ]
  },
  {
   "cell_type": "markdown",
   "metadata": {},
   "source": [
    "### Import libraries"
   ]
  },
  {
   "cell_type": "code",
   "execution_count": null,
   "metadata": {},
   "outputs": [],
   "source": [
    "import pandas as pd"
   ]
  },
  {
   "cell_type": "markdown",
   "metadata": {},
   "source": [
    "### Load Data"
   ]
  },
  {
   "cell_type": "code",
   "execution_count": null,
   "metadata": {},
   "outputs": [],
   "source": [
    "filename = \"https://archive.ics.uci.edu/ml/machine-learning-databases/parkinsons/parkinsons.data\"\n",
    "# filename = \"Data/parkinsons/parkinsons.data\"\n",
    "data = pd.read_csv(filename, index_col=0)"
   ]
  },
  {
   "cell_type": "code",
   "execution_count": null,
   "metadata": {
    "scrolled": true
   },
   "outputs": [],
   "source": [
    "data.head()"
   ]
  },
  {
   "cell_type": "code",
   "execution_count": null,
   "metadata": {},
   "outputs": [],
   "source": []
  }
 ],
 "metadata": {
  "kernelspec": {
   "display_name": ".venv-ml",
   "language": "python",
   "name": "python3"
  },
  "language_info": {
   "codemirror_mode": {
    "name": "ipython",
    "version": 3
   },
   "file_extension": ".py",
   "mimetype": "text/x-python",
   "name": "python",
   "nbconvert_exporter": "python",
   "pygments_lexer": "ipython3",
   "version": "3.9.21"
  }
 },
 "nbformat": 4,
 "nbformat_minor": 4
}
