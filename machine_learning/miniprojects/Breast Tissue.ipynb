{
 "cells": [
  {
   "cell_type": "markdown",
   "metadata": {},
   "source": [
    "<table style=\"background-color:#F5F5F5;\" width=\"100%\">\n",
    "    <tr><td style=\"background-color:#F5F5F5;\"><img src=\"../../assets/images/nortecvp_logo.png\" width=\"100\" align='right'/></td></tr>     <tr><td>\n",
    "            <h1><center>Inteligência Artificial na Saúde</center></h1>\n",
    "            <h3><center>1st Semester - 2024/2025</center></h3>\n",
    "            <h4><center>Escola Superior de Saúde Norte da Cruz Vermelha Portuguesa</center></h4>\n",
    "    </td></tr>\n",
    "</table>"
   ]
  },
  {
   "cell_type": "markdown",
   "metadata": {},
   "source": [
    "# Project Name: Breast Tissue\n",
    "\n",
    "### Abstract\n",
    "\n",
    "Dataset with electrical impedance measurements of freshly excised tissue samples from the breast.\n",
    "\n",
    "### Data Set Information\n",
    "\n",
    "Impedance measurements were made at the frequencies: 15.625, 31.25, 62.5, 125, 250, 500, 1000 KHz\n",
    "Impedance measurements of freshly excised breast tissue were made at the follwoing frequencies: 15.625, 31.25, 62.5, 125, 250, 500, 1000 KHz. These measurements plotted in the (real, -imaginary) plane constitute the impedance spectrum from where the breast tissue features are computed.\n",
    "The dataset can be used for predicting the classification of either the original 6 classes or of 4 classes by merging together the fibro-adenoma, mastopathy and glandular classes whose discrimination is not important (they cannot be accurately discriminated anyway).\n",
    "\n",
    "#### Attribute Information\n",
    "\n",
    "* I0 Impedivity (ohm) at zero frequency\n",
    "* PA500 phase angle at 500 KHz\n",
    "* HFS high-frequency slope of phase angle\n",
    "* DA impedance distance between spectral ends\n",
    "* AREA area under spectrum\n",
    "* A/DA area normalized by DA\n",
    "* MAX IP maximum of the spectrum\n",
    "* DR distance between I0 and real part of the maximum frequency point\n",
    "* P length of the spectral curve\n",
    "* Class car(carcinoma), fad (fibro-adenoma), mas (mastopathy), gla (glandular), con (connective), adi (adipose). \n",
    "\n",
    "### UCI Link\n",
    "\n",
    "http://archive.ics.uci.edu/ml/datasets/breast+tissue"
   ]
  },
  {
   "cell_type": "markdown",
   "metadata": {},
   "source": [
    "### Import libraries"
   ]
  },
  {
   "cell_type": "code",
   "execution_count": null,
   "metadata": {},
   "outputs": [],
   "source": [
    "import numpy as np\n",
    "import pandas as pd\n",
    "import matplotlib.pyplot as plt"
   ]
  },
  {
   "cell_type": "markdown",
   "metadata": {},
   "source": [
    "### Load Data"
   ]
  },
  {
   "cell_type": "code",
   "execution_count": null,
   "metadata": {},
   "outputs": [],
   "source": [
    "filename = \"http://archive.ics.uci.edu/ml/machine-learning-databases/00192/BreastTissue.xls\"\n",
    "# filename = \"Data/breast/BreastTissue.xls\"\n",
    "data = pd.read_excel(filename, sheet_name='Data', index_col=0)\n",
    "\n",
    "data.head()"
   ]
  },
  {
   "cell_type": "code",
   "execution_count": null,
   "metadata": {},
   "outputs": [],
   "source": []
  }
 ],
 "metadata": {
  "kernelspec": {
   "display_name": ".venv-ml",
   "language": "python",
   "name": "python3"
  },
  "language_info": {
   "codemirror_mode": {
    "name": "ipython",
    "version": 3
   },
   "file_extension": ".py",
   "mimetype": "text/x-python",
   "name": "python",
   "nbconvert_exporter": "python",
   "pygments_lexer": "ipython3",
   "version": "3.9.21"
  }
 },
 "nbformat": 4,
 "nbformat_minor": 4
}
