{
 "cells": [
  {
   "cell_type": "markdown",
   "metadata": {},
   "source": [
    "<table style=\"background-color:#F5F5F5;\" width=\"100%\">\n",
    "    <tr><td style=\"background-color:#F5F5F5;\"><img src=\"../../assets/images/nortecvp_logo.png\" width=\"100\" align='right'/></td></tr>     <tr><td>\n",
    "            <h1><center>Inteligência Artificial na Saúde</center></h1>\n",
    "            <h3><center>1st Semester - 2024/2025</center></h3>\n",
    "            <h4><center>Escola Superior de Saúde Norte da Cruz Vermelha Portuguesa</center></h4>\n",
    "    </td></tr>\n",
    "</table>"
   ]
  },
  {
   "cell_type": "markdown",
   "metadata": {},
   "source": [
    "# Project Name: Cardiotography\n",
    "\n",
    "\n",
    "### Abstract\n",
    "\n",
    "Classify the fetal state among normal, suspect and pathologic.\n",
    "\n",
    "\n",
    "### Data Set Information\n",
    "\n",
    "2126 fetal cardiotocograms (CTGs) were automatically processed and the respective diagnostic features measured. The CTGs were also classified by three expert obstetricians and a consensus classification label assigned to each of them. Classification was both with respect to a morphologic pattern (A, B, C. ...) and to a fetal state (N, S, P). Therefore the dataset can be used either for 10-class or 3-class experiments.\n",
    "\n",
    "#### Attribute Information\n",
    "\n",
    "* LB - FHR baseline (beats per minute)\n",
    "* AC - # of accelerations per second\n",
    "* FM - # of fetal movements per second\n",
    "* UC - # of uterine contractions per second\n",
    "* DL - # of light decelerations per second\n",
    "* DS - # of severe decelerations per second\n",
    "* DP - # of prolongued decelerations per second\n",
    "* ASTV - percentage of time with abnormal short term variability\n",
    "* MSTV - mean value of short term variability\n",
    "* ALTV - percentage of time with abnormal long term variability\n",
    "* MLTV - mean value of long term variability\n",
    "* Width - width of FHR histogram\n",
    "* Min - minimum of FHR histogram\n",
    "* Max - Maximum of FHR histogram\n",
    "* Nmax - # of histogram peaks\n",
    "* Nzeros - # of histogram zeros\n",
    "* Mode - histogram mode\n",
    "* Mean - histogram mean\n",
    "* Median - histogram median\n",
    "* Variance - histogram variance\n",
    "* Tendency - histogram tendency\n",
    "* CLASS - FHR pattern class code (1 to 10) \n",
    "* NSP - fetal state class code (N=normal; S=suspect; P=pathologic)\n",
    "\n",
    "\n",
    "### UCI Link\n",
    "\n",
    "https://archive.ics.uci.edu/dataset/193/cardiotocography"
   ]
  },
  {
   "cell_type": "markdown",
   "metadata": {},
   "source": [
    "### Import libraries"
   ]
  },
  {
   "cell_type": "code",
   "execution_count": null,
   "metadata": {},
   "outputs": [],
   "source": [
    "import numpy as np\n",
    "import pandas as pd\n",
    "import matplotlib as plt"
   ]
  },
  {
   "cell_type": "markdown",
   "metadata": {},
   "source": [
    "### Load Data"
   ]
  },
  {
   "cell_type": "code",
   "execution_count": null,
   "metadata": {},
   "outputs": [],
   "source": [
    "filename = \"./Data/DSF.csv\"\n",
    "data = pd.read_csv(filename)\n",
    "data.drop(['FileName','Date','SegFile','b','e','LBE','A','B','C','D','E','AD','DE','LD','FS','SUSP','CLASS'], axis=1, inplace = True)"
   ]
  },
  {
   "cell_type": "code",
   "execution_count": null,
   "metadata": {},
   "outputs": [],
   "source": [
    "data.head()"
   ]
  },
  {
   "cell_type": "code",
   "execution_count": null,
   "metadata": {},
   "outputs": [],
   "source": []
  }
 ],
 "metadata": {
  "kernelspec": {
   "display_name": ".venv-ml",
   "language": "python",
   "name": "python3"
  },
  "language_info": {
   "codemirror_mode": {
    "name": "ipython",
    "version": 3
   },
   "file_extension": ".py",
   "mimetype": "text/x-python",
   "name": "python",
   "nbconvert_exporter": "python",
   "pygments_lexer": "ipython3",
   "version": "3.9.21"
  }
 },
 "nbformat": 4,
 "nbformat_minor": 4
}
