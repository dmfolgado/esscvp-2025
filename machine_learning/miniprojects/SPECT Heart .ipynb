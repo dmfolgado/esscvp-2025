{
 "cells": [
  {
   "cell_type": "markdown",
   "metadata": {},
   "source": [
    "<table style=\"background-color:#F5F5F5;\" width=\"100%\">\n",
    "    <tr><td style=\"background-color:#F5F5F5;\"><img src=\"../../assets/images/nortecvp_logo.png\" width=\"100\" align='right'/></td></tr>     <tr><td>\n",
    "            <h1><center>Inteligência Artificial na Saúde</center></h1>\n",
    "            <h3><center>1st Semester - 2024/2025</center></h3>\n",
    "            <h4><center>Escola Superior de Saúde Norte da Cruz Vermelha Portuguesa</center></h4>\n",
    "    </td></tr>\n",
    "</table>"
   ]
  },
  {
   "cell_type": "markdown",
   "metadata": {},
   "source": [
    "# Project Name: Cardiac Single Proton Emission Computed Tomography Images\n",
    "\n",
    "\n",
    "### Abstract\n",
    "\n",
    "Data on cardiac Single Proton Emission Computed Tomography (SPECT) images. Each patient classified into two categories: normal and abnormal.\n",
    "\n",
    "\n",
    "### Data Set Information\n",
    "\n",
    "The dataset describes diagnosing of cardiac Single Proton Emission Computed Tomography (SPECT) images. Each of the patients is classified into two categories: normal and abnormal. The database of 267 SPECT image sets (patients) was processed to extract features that summarize the original SPECT images. As a result, 44 continuous feature pattern was created for each patient. The pattern was further processed to obtain 22 binary feature patterns. The CLIP3 algorithm was used to generate classification rules from these patterns. The CLIP3 algorithm generated rules that were 84.0% accurate (as compared with cardilogists' diagnoses).\n",
    "\n",
    "SPECT is a good data set for testing ML algorithms; it has 267 instances that are descibed by 23 binary attributes\n",
    "\n",
    "\n",
    "#### Attribute Information\n",
    "\n",
    "1. OVERALL_DIAGNOSIS: 0,1 (class attribute, binary)\n",
    "2. F1: 0,1 (the partial diagnosis 1, binary)\n",
    "3. F2: 0,1 (the partial diagnosis 2, binary)\n",
    "4. F3: 0,1 (the partial diagnosis 3, binary)\n",
    "5. F4: 0,1 (the partial diagnosis 4, binary)\n",
    "6. F5: 0,1 (the partial diagnosis 5, binary)\n",
    "7. F6: 0,1 (the partial diagnosis 6, binary)\n",
    "8. F7: 0,1 (the partial diagnosis 7, binary)\n",
    "9. F8: 0,1 (the partial diagnosis 8, binary)\n",
    "10. F9: 0,1 (the partial diagnosis 9, binary)\n",
    "11. F10: 0,1 (the partial diagnosis 10, binary)\n",
    "12. F11: 0,1 (the partial diagnosis 11, binary)\n",
    "13. F12: 0,1 (the partial diagnosis 12, binary)\n",
    "14. F13: 0,1 (the partial diagnosis 13, binary)\n",
    "15. F14: 0,1 (the partial diagnosis 14, binary)\n",
    "16. F15: 0,1 (the partial diagnosis 15, binary)\n",
    "17. F16: 0,1 (the partial diagnosis 16, binary)\n",
    "18. F17: 0,1 (the partial diagnosis 17, binary)\n",
    "19. F18: 0,1 (the partial diagnosis 18, binary)\n",
    "20. F19: 0,1 (the partial diagnosis 19, binary)\n",
    "21. F20: 0,1 (the partial diagnosis 20, binary)\n",
    "22. F21: 0,1 (the partial diagnosis 21, binary)\n",
    "23. F22: 0,1 (the partial diagnosis 22, binary)\n",
    "\n",
    "__Dataset is divided into__:\n",
    "- training data (\"SPECT.train\" 80 instances)\n",
    "- testing data (\"SPECT.test\" 187 instances)\n",
    "\n",
    "\n",
    "### UCI Link\n",
    "\n",
    "https://archive.ics.uci.edu/ml/datasets/spect+heart\n"
   ]
  },
  {
   "cell_type": "markdown",
   "metadata": {},
   "source": [
    "### Import libraries"
   ]
  },
  {
   "cell_type": "code",
   "execution_count": null,
   "metadata": {},
   "outputs": [],
   "source": [
    "import numpy as np\n",
    "import pandas as pd\n",
    "import matplotlib as plt"
   ]
  },
  {
   "cell_type": "markdown",
   "metadata": {},
   "source": [
    "### Load data"
   ]
  },
  {
   "cell_type": "code",
   "execution_count": null,
   "metadata": {},
   "outputs": [],
   "source": [
    "dir_dataset = \"https://archive.ics.uci.edu/ml/machine-learning-databases/spect/\"\n",
    "# dir_dataset = \"Data/spect/\"\n",
    "attributes_names = 'OVERALL_DIAGNOSIS', 'F1R', 'F1S', 'F2R', 'F2S', 'F3R', 'F3S', 'F4R', 'F4S', 'F5R', 'F5S', 'F6R', \\\n",
    "                   'F6S', 'F7R', 'F7S', 'F8R', 'F8S', 'F9R', 'F9S', 'F10R', 'F10S', 'F11R', 'F11S', 'F12R', 'F12S', \\\n",
    "                   'F13R', 'F13S', 'F14R', 'F14S', 'F15R', 'F15S', 'F16R', 'F16S', 'F17R', 'F17S', 'F18R', 'F18S', \\\n",
    "                   'F19R', 'F19S', 'F20R', 'F20S', 'F21R', 'F21S', 'F22R', 'F22S'\n",
    "\n",
    "train_data = pd.read_csv(dir_dataset + 'SPECTF.train', header=None, names=attributes_names)\n",
    "test_data = pd.read_csv(dir_dataset + 'SPECTF.test', header=None, names=attributes_names)\n",
    "\n",
    "train_data.head()"
   ]
  },
  {
   "cell_type": "code",
   "execution_count": null,
   "metadata": {},
   "outputs": [],
   "source": []
  }
 ],
 "metadata": {
  "kernelspec": {
   "display_name": ".venv-ml",
   "language": "python",
   "name": "python3"
  },
  "language_info": {
   "codemirror_mode": {
    "name": "ipython",
    "version": 3
   },
   "file_extension": ".py",
   "mimetype": "text/x-python",
   "name": "python",
   "nbconvert_exporter": "python",
   "pygments_lexer": "ipython3",
   "version": "3.9.21"
  }
 },
 "nbformat": 4,
 "nbformat_minor": 4
}
